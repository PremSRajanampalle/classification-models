{
 "cells": [
  {
   "cell_type": "markdown",
   "id": "68b511cf",
   "metadata": {},
   "source": [
    "PROBLEM STATEMENT: Classify if an individual is demented or not. \n",
    "\n",
    "By: Prem S Rajanampalle, REI Intercollege, Dayalbagh, Agra\n",
    "\n",
    "The dataset link: https://www.kaggle.com/datasets/jboysen/mri-and-alzheimers"
   ]
  },
  {
   "cell_type": "markdown",
   "id": "c6abb8b9",
   "metadata": {},
   "source": [
    "# Table of Contents:\n",
    "1. Data Description \n",
    "2. EDA \n",
    "3. Data Preprocessing \n",
    "4. Split into training and testing \n",
    "5. KNN\n",
    "6. Logistic Regression \n",
    "7. Decision Trees \n",
    "8. Naive Bayes \n",
    "9. XGBoost \n",
    "10. Random Forests"
   ]
  },
  {
   "cell_type": "markdown",
   "id": "050c35e6",
   "metadata": {},
   "source": [
    "## Data description"
   ]
  },
  {
   "cell_type": "code",
   "execution_count": 2,
   "id": "9cc7c3eb",
   "metadata": {},
   "outputs": [],
   "source": [
    "import pandas as pd \n",
    "import numpy as np \n",
    "import matplotlib.pyplot as plt\n",
    "import seaborn as sb"
   ]
  },
  {
   "cell_type": "code",
   "execution_count": 3,
   "id": "d6aa8752",
   "metadata": {},
   "outputs": [
    {
     "name": "stdout",
     "output_type": "stream",
     "text": [
      "<class 'pandas.core.frame.DataFrame'>\n",
      "RangeIndex: 373 entries, 0 to 372\n",
      "Data columns (total 15 columns):\n",
      " #   Column      Non-Null Count  Dtype  \n",
      "---  ------      --------------  -----  \n",
      " 0   Subject ID  373 non-null    object \n",
      " 1   MRI ID      373 non-null    object \n",
      " 2   Group       373 non-null    object \n",
      " 3   Visit       373 non-null    int64  \n",
      " 4   MR Delay    373 non-null    int64  \n",
      " 5   M/F         373 non-null    object \n",
      " 6   Hand        373 non-null    object \n",
      " 7   Age         373 non-null    int64  \n",
      " 8   EDUC        373 non-null    int64  \n",
      " 9   SES         354 non-null    float64\n",
      " 10  MMSE        371 non-null    float64\n",
      " 11  CDR         373 non-null    float64\n",
      " 12  eTIV        373 non-null    int64  \n",
      " 13  nWBV        373 non-null    float64\n",
      " 14  ASF         373 non-null    float64\n",
      "dtypes: float64(5), int64(5), object(5)\n",
      "memory usage: 43.8+ KB\n"
     ]
    }
   ],
   "source": [
    "ds = pd.read_csv(\"oasis_longitudinal.csv\")\n",
    "ds.info()"
   ]
  },
  {
   "cell_type": "code",
   "execution_count": 4,
   "id": "a63927c8",
   "metadata": {},
   "outputs": [
    {
     "data": {
      "text/plain": [
       "(373, 15)"
      ]
     },
     "execution_count": 4,
     "metadata": {},
     "output_type": "execute_result"
    }
   ],
   "source": [
    "ds.shape"
   ]
  },
  {
   "cell_type": "code",
   "execution_count": 5,
   "id": "bd96ed3b",
   "metadata": {},
   "outputs": [
    {
     "data": {
      "text/html": [
       "<div>\n",
       "<style scoped>\n",
       "    .dataframe tbody tr th:only-of-type {\n",
       "        vertical-align: middle;\n",
       "    }\n",
       "\n",
       "    .dataframe tbody tr th {\n",
       "        vertical-align: top;\n",
       "    }\n",
       "\n",
       "    .dataframe thead th {\n",
       "        text-align: right;\n",
       "    }\n",
       "</style>\n",
       "<table border=\"1\" class=\"dataframe\">\n",
       "  <thead>\n",
       "    <tr style=\"text-align: right;\">\n",
       "      <th></th>\n",
       "      <th>Subject ID</th>\n",
       "      <th>MRI ID</th>\n",
       "      <th>Group</th>\n",
       "      <th>Visit</th>\n",
       "      <th>MR Delay</th>\n",
       "      <th>M/F</th>\n",
       "      <th>Hand</th>\n",
       "      <th>Age</th>\n",
       "      <th>EDUC</th>\n",
       "      <th>SES</th>\n",
       "      <th>MMSE</th>\n",
       "      <th>CDR</th>\n",
       "      <th>eTIV</th>\n",
       "      <th>nWBV</th>\n",
       "      <th>ASF</th>\n",
       "    </tr>\n",
       "  </thead>\n",
       "  <tbody>\n",
       "    <tr>\n",
       "      <th>0</th>\n",
       "      <td>OAS2_0001</td>\n",
       "      <td>OAS2_0001_MR1</td>\n",
       "      <td>Nondemented</td>\n",
       "      <td>1</td>\n",
       "      <td>0</td>\n",
       "      <td>M</td>\n",
       "      <td>R</td>\n",
       "      <td>87</td>\n",
       "      <td>14</td>\n",
       "      <td>2.0</td>\n",
       "      <td>27.0</td>\n",
       "      <td>0.0</td>\n",
       "      <td>1987</td>\n",
       "      <td>0.696</td>\n",
       "      <td>0.883</td>\n",
       "    </tr>\n",
       "    <tr>\n",
       "      <th>1</th>\n",
       "      <td>OAS2_0001</td>\n",
       "      <td>OAS2_0001_MR2</td>\n",
       "      <td>Nondemented</td>\n",
       "      <td>2</td>\n",
       "      <td>457</td>\n",
       "      <td>M</td>\n",
       "      <td>R</td>\n",
       "      <td>88</td>\n",
       "      <td>14</td>\n",
       "      <td>2.0</td>\n",
       "      <td>30.0</td>\n",
       "      <td>0.0</td>\n",
       "      <td>2004</td>\n",
       "      <td>0.681</td>\n",
       "      <td>0.876</td>\n",
       "    </tr>\n",
       "    <tr>\n",
       "      <th>2</th>\n",
       "      <td>OAS2_0002</td>\n",
       "      <td>OAS2_0002_MR1</td>\n",
       "      <td>Demented</td>\n",
       "      <td>1</td>\n",
       "      <td>0</td>\n",
       "      <td>M</td>\n",
       "      <td>R</td>\n",
       "      <td>75</td>\n",
       "      <td>12</td>\n",
       "      <td>NaN</td>\n",
       "      <td>23.0</td>\n",
       "      <td>0.5</td>\n",
       "      <td>1678</td>\n",
       "      <td>0.736</td>\n",
       "      <td>1.046</td>\n",
       "    </tr>\n",
       "    <tr>\n",
       "      <th>3</th>\n",
       "      <td>OAS2_0002</td>\n",
       "      <td>OAS2_0002_MR2</td>\n",
       "      <td>Demented</td>\n",
       "      <td>2</td>\n",
       "      <td>560</td>\n",
       "      <td>M</td>\n",
       "      <td>R</td>\n",
       "      <td>76</td>\n",
       "      <td>12</td>\n",
       "      <td>NaN</td>\n",
       "      <td>28.0</td>\n",
       "      <td>0.5</td>\n",
       "      <td>1738</td>\n",
       "      <td>0.713</td>\n",
       "      <td>1.010</td>\n",
       "    </tr>\n",
       "    <tr>\n",
       "      <th>4</th>\n",
       "      <td>OAS2_0002</td>\n",
       "      <td>OAS2_0002_MR3</td>\n",
       "      <td>Demented</td>\n",
       "      <td>3</td>\n",
       "      <td>1895</td>\n",
       "      <td>M</td>\n",
       "      <td>R</td>\n",
       "      <td>80</td>\n",
       "      <td>12</td>\n",
       "      <td>NaN</td>\n",
       "      <td>22.0</td>\n",
       "      <td>0.5</td>\n",
       "      <td>1698</td>\n",
       "      <td>0.701</td>\n",
       "      <td>1.034</td>\n",
       "    </tr>\n",
       "  </tbody>\n",
       "</table>\n",
       "</div>"
      ],
      "text/plain": [
       "  Subject ID         MRI ID        Group  Visit  MR Delay M/F Hand  Age  EDUC  \\\n",
       "0  OAS2_0001  OAS2_0001_MR1  Nondemented      1         0   M    R   87    14   \n",
       "1  OAS2_0001  OAS2_0001_MR2  Nondemented      2       457   M    R   88    14   \n",
       "2  OAS2_0002  OAS2_0002_MR1     Demented      1         0   M    R   75    12   \n",
       "3  OAS2_0002  OAS2_0002_MR2     Demented      2       560   M    R   76    12   \n",
       "4  OAS2_0002  OAS2_0002_MR3     Demented      3      1895   M    R   80    12   \n",
       "\n",
       "   SES  MMSE  CDR  eTIV   nWBV    ASF  \n",
       "0  2.0  27.0  0.0  1987  0.696  0.883  \n",
       "1  2.0  30.0  0.0  2004  0.681  0.876  \n",
       "2  NaN  23.0  0.5  1678  0.736  1.046  \n",
       "3  NaN  28.0  0.5  1738  0.713  1.010  \n",
       "4  NaN  22.0  0.5  1698  0.701  1.034  "
      ]
     },
     "execution_count": 5,
     "metadata": {},
     "output_type": "execute_result"
    }
   ],
   "source": [
    "ds.head()"
   ]
  },
  {
   "cell_type": "markdown",
   "id": "751aa706",
   "metadata": {},
   "source": [
    "Creating a new dataset where \"visit\" is \"1\". "
   ]
  },
  {
   "cell_type": "code",
   "execution_count": 6,
   "id": "2daae4ec",
   "metadata": {},
   "outputs": [
    {
     "data": {
      "text/html": [
       "<div>\n",
       "<style scoped>\n",
       "    .dataframe tbody tr th:only-of-type {\n",
       "        vertical-align: middle;\n",
       "    }\n",
       "\n",
       "    .dataframe tbody tr th {\n",
       "        vertical-align: top;\n",
       "    }\n",
       "\n",
       "    .dataframe thead th {\n",
       "        text-align: right;\n",
       "    }\n",
       "</style>\n",
       "<table border=\"1\" class=\"dataframe\">\n",
       "  <thead>\n",
       "    <tr style=\"text-align: right;\">\n",
       "      <th></th>\n",
       "      <th>Subject ID</th>\n",
       "      <th>MRI ID</th>\n",
       "      <th>Group</th>\n",
       "      <th>Visit</th>\n",
       "      <th>MR Delay</th>\n",
       "      <th>M/F</th>\n",
       "      <th>Hand</th>\n",
       "      <th>Age</th>\n",
       "      <th>EDUC</th>\n",
       "      <th>SES</th>\n",
       "      <th>MMSE</th>\n",
       "      <th>CDR</th>\n",
       "      <th>eTIV</th>\n",
       "      <th>nWBV</th>\n",
       "      <th>ASF</th>\n",
       "    </tr>\n",
       "  </thead>\n",
       "  <tbody>\n",
       "    <tr>\n",
       "      <th>0</th>\n",
       "      <td>OAS2_0001</td>\n",
       "      <td>OAS2_0001_MR1</td>\n",
       "      <td>Nondemented</td>\n",
       "      <td>1</td>\n",
       "      <td>0</td>\n",
       "      <td>M</td>\n",
       "      <td>R</td>\n",
       "      <td>87</td>\n",
       "      <td>14</td>\n",
       "      <td>2.0</td>\n",
       "      <td>27.0</td>\n",
       "      <td>0.0</td>\n",
       "      <td>1987</td>\n",
       "      <td>0.696</td>\n",
       "      <td>0.883</td>\n",
       "    </tr>\n",
       "    <tr>\n",
       "      <th>2</th>\n",
       "      <td>OAS2_0002</td>\n",
       "      <td>OAS2_0002_MR1</td>\n",
       "      <td>Demented</td>\n",
       "      <td>1</td>\n",
       "      <td>0</td>\n",
       "      <td>M</td>\n",
       "      <td>R</td>\n",
       "      <td>75</td>\n",
       "      <td>12</td>\n",
       "      <td>NaN</td>\n",
       "      <td>23.0</td>\n",
       "      <td>0.5</td>\n",
       "      <td>1678</td>\n",
       "      <td>0.736</td>\n",
       "      <td>1.046</td>\n",
       "    </tr>\n",
       "    <tr>\n",
       "      <th>5</th>\n",
       "      <td>OAS2_0004</td>\n",
       "      <td>OAS2_0004_MR1</td>\n",
       "      <td>Nondemented</td>\n",
       "      <td>1</td>\n",
       "      <td>0</td>\n",
       "      <td>F</td>\n",
       "      <td>R</td>\n",
       "      <td>88</td>\n",
       "      <td>18</td>\n",
       "      <td>3.0</td>\n",
       "      <td>28.0</td>\n",
       "      <td>0.0</td>\n",
       "      <td>1215</td>\n",
       "      <td>0.710</td>\n",
       "      <td>1.444</td>\n",
       "    </tr>\n",
       "    <tr>\n",
       "      <th>7</th>\n",
       "      <td>OAS2_0005</td>\n",
       "      <td>OAS2_0005_MR1</td>\n",
       "      <td>Nondemented</td>\n",
       "      <td>1</td>\n",
       "      <td>0</td>\n",
       "      <td>M</td>\n",
       "      <td>R</td>\n",
       "      <td>80</td>\n",
       "      <td>12</td>\n",
       "      <td>4.0</td>\n",
       "      <td>28.0</td>\n",
       "      <td>0.0</td>\n",
       "      <td>1689</td>\n",
       "      <td>0.712</td>\n",
       "      <td>1.039</td>\n",
       "    </tr>\n",
       "    <tr>\n",
       "      <th>10</th>\n",
       "      <td>OAS2_0007</td>\n",
       "      <td>OAS2_0007_MR1</td>\n",
       "      <td>Demented</td>\n",
       "      <td>1</td>\n",
       "      <td>0</td>\n",
       "      <td>M</td>\n",
       "      <td>R</td>\n",
       "      <td>71</td>\n",
       "      <td>16</td>\n",
       "      <td>NaN</td>\n",
       "      <td>28.0</td>\n",
       "      <td>0.5</td>\n",
       "      <td>1357</td>\n",
       "      <td>0.748</td>\n",
       "      <td>1.293</td>\n",
       "    </tr>\n",
       "  </tbody>\n",
       "</table>\n",
       "</div>"
      ],
      "text/plain": [
       "   Subject ID         MRI ID        Group  Visit  MR Delay M/F Hand  Age  \\\n",
       "0   OAS2_0001  OAS2_0001_MR1  Nondemented      1         0   M    R   87   \n",
       "2   OAS2_0002  OAS2_0002_MR1     Demented      1         0   M    R   75   \n",
       "5   OAS2_0004  OAS2_0004_MR1  Nondemented      1         0   F    R   88   \n",
       "7   OAS2_0005  OAS2_0005_MR1  Nondemented      1         0   M    R   80   \n",
       "10  OAS2_0007  OAS2_0007_MR1     Demented      1         0   M    R   71   \n",
       "\n",
       "    EDUC  SES  MMSE  CDR  eTIV   nWBV    ASF  \n",
       "0     14  2.0  27.0  0.0  1987  0.696  0.883  \n",
       "2     12  NaN  23.0  0.5  1678  0.736  1.046  \n",
       "5     18  3.0  28.0  0.0  1215  0.710  1.444  \n",
       "7     12  4.0  28.0  0.0  1689  0.712  1.039  \n",
       "10    16  NaN  28.0  0.5  1357  0.748  1.293  "
      ]
     },
     "execution_count": 6,
     "metadata": {},
     "output_type": "execute_result"
    }
   ],
   "source": [
    "ds_new1 = ds[ds['Visit']==1]\n",
    "ds_new1.head()"
   ]
  },
  {
   "cell_type": "code",
   "execution_count": 7,
   "id": "194948e0",
   "metadata": {},
   "outputs": [
    {
     "data": {
      "text/plain": [
       "(150, 15)"
      ]
     },
     "execution_count": 7,
     "metadata": {},
     "output_type": "execute_result"
    }
   ],
   "source": [
    "ds_new1.shape"
   ]
  },
  {
   "cell_type": "markdown",
   "id": "50ebaf92",
   "metadata": {},
   "source": [
    "## EDA"
   ]
  },
  {
   "cell_type": "code",
   "execution_count": 8,
   "id": "e096b56c",
   "metadata": {},
   "outputs": [
    {
     "data": {
      "text/plain": [
       "array([[<Axes: title={'center': 'Visit'}>,\n",
       "        <Axes: title={'center': 'MR Delay'}>,\n",
       "        <Axes: title={'center': 'Age'}>],\n",
       "       [<Axes: title={'center': 'EDUC'}>,\n",
       "        <Axes: title={'center': 'SES'}>,\n",
       "        <Axes: title={'center': 'MMSE'}>],\n",
       "       [<Axes: title={'center': 'CDR'}>,\n",
       "        <Axes: title={'center': 'eTIV'}>,\n",
       "        <Axes: title={'center': 'nWBV'}>],\n",
       "       [<Axes: title={'center': 'ASF'}>, <Axes: >, <Axes: >]],\n",
       "      dtype=object)"
      ]
     },
     "execution_count": 8,
     "metadata": {},
     "output_type": "execute_result"
    },
    {
     "data": {
      "image/png": "[encoded data removed]",
      "text/plain": [
       "<Figure size 2000x2000 with 12 Axes>"
      ]
     },
     "metadata": {},
     "output_type": "display_data"
    }
   ],
   "source": [
    "ds_new1.hist(figsize = (20, 20))"
   ]
  },
  {
   "cell_type": "code",
   "execution_count": 9,
   "id": "59c1e9e8",
   "metadata": {},
   "outputs": [
    {
     "name": "stderr",
     "output_type": "stream",
     "text": [
      "C:\\Users\\hp\\AppData\\Local\\Temp\\ipykernel_7920\\3886132498.py:1: FutureWarning: The default value of numeric_only in DataFrame.corr is deprecated. In a future version, it will default to False. Select only valid columns or specify the value of numeric_only to silence this warning.\n",
      "  ds_new1.corr()\n"
     ]
    },
    {
     "data": {
      "text/html": [
       "<div>\n",
       "<style scoped>\n",
       "    .dataframe tbody tr th:only-of-type {\n",
       "        vertical-align: middle;\n",
       "    }\n",
       "\n",
       "    .dataframe tbody tr th {\n",
       "        vertical-align: top;\n",
       "    }\n",
       "\n",
       "    .dataframe thead th {\n",
       "        text-align: right;\n",
       "    }\n",
       "</style>\n",
       "<table border=\"1\" class=\"dataframe\">\n",
       "  <thead>\n",
       "    <tr style=\"text-align: right;\">\n",
       "      <th></th>\n",
       "      <th>Visit</th>\n",
       "      <th>MR Delay</th>\n",
       "      <th>Age</th>\n",
       "      <th>EDUC</th>\n",
       "      <th>SES</th>\n",
       "      <th>MMSE</th>\n",
       "      <th>CDR</th>\n",
       "      <th>eTIV</th>\n",
       "      <th>nWBV</th>\n",
       "      <th>ASF</th>\n",
       "    </tr>\n",
       "  </thead>\n",
       "  <tbody>\n",
       "    <tr>\n",
       "      <th>Visit</th>\n",
       "      <td>NaN</td>\n",
       "      <td>NaN</td>\n",
       "      <td>NaN</td>\n",
       "      <td>NaN</td>\n",
       "      <td>NaN</td>\n",
       "      <td>NaN</td>\n",
       "      <td>NaN</td>\n",
       "      <td>NaN</td>\n",
       "      <td>NaN</td>\n",
       "      <td>NaN</td>\n",
       "    </tr>\n",
       "    <tr>\n",
       "      <th>MR Delay</th>\n",
       "      <td>NaN</td>\n",
       "      <td>NaN</td>\n",
       "      <td>NaN</td>\n",
       "      <td>NaN</td>\n",
       "      <td>NaN</td>\n",
       "      <td>NaN</td>\n",
       "      <td>NaN</td>\n",
       "      <td>NaN</td>\n",
       "      <td>NaN</td>\n",
       "      <td>NaN</td>\n",
       "    </tr>\n",
       "    <tr>\n",
       "      <th>Age</th>\n",
       "      <td>NaN</td>\n",
       "      <td>NaN</td>\n",
       "      <td>1.000000</td>\n",
       "      <td>-0.065513</td>\n",
       "      <td>-0.016734</td>\n",
       "      <td>-0.022629</td>\n",
       "      <td>-0.039313</td>\n",
       "      <td>-0.009693</td>\n",
       "      <td>-0.558027</td>\n",
       "      <td>0.020708</td>\n",
       "    </tr>\n",
       "    <tr>\n",
       "      <th>EDUC</th>\n",
       "      <td>NaN</td>\n",
       "      <td>NaN</td>\n",
       "      <td>-0.065513</td>\n",
       "      <td>1.000000</td>\n",
       "      <td>-0.725770</td>\n",
       "      <td>0.216439</td>\n",
       "      <td>-0.227556</td>\n",
       "      <td>0.236263</td>\n",
       "      <td>0.048484</td>\n",
       "      <td>-0.218819</td>\n",
       "    </tr>\n",
       "    <tr>\n",
       "      <th>SES</th>\n",
       "      <td>NaN</td>\n",
       "      <td>NaN</td>\n",
       "      <td>-0.016734</td>\n",
       "      <td>-0.725770</td>\n",
       "      <td>1.000000</td>\n",
       "      <td>-0.180484</td>\n",
       "      <td>0.137950</td>\n",
       "      <td>-0.244047</td>\n",
       "      <td>0.028227</td>\n",
       "      <td>0.235480</td>\n",
       "    </tr>\n",
       "    <tr>\n",
       "      <th>MMSE</th>\n",
       "      <td>NaN</td>\n",
       "      <td>NaN</td>\n",
       "      <td>-0.022629</td>\n",
       "      <td>0.216439</td>\n",
       "      <td>-0.180484</td>\n",
       "      <td>1.000000</td>\n",
       "      <td>-0.691874</td>\n",
       "      <td>-0.051549</td>\n",
       "      <td>0.322025</td>\n",
       "      <td>0.059661</td>\n",
       "    </tr>\n",
       "    <tr>\n",
       "      <th>CDR</th>\n",
       "      <td>NaN</td>\n",
       "      <td>NaN</td>\n",
       "      <td>-0.039313</td>\n",
       "      <td>-0.227556</td>\n",
       "      <td>0.137950</td>\n",
       "      <td>-0.691874</td>\n",
       "      <td>1.000000</td>\n",
       "      <td>0.037608</td>\n",
       "      <td>-0.310813</td>\n",
       "      <td>-0.039840</td>\n",
       "    </tr>\n",
       "    <tr>\n",
       "      <th>eTIV</th>\n",
       "      <td>NaN</td>\n",
       "      <td>NaN</td>\n",
       "      <td>-0.009693</td>\n",
       "      <td>0.236263</td>\n",
       "      <td>-0.244047</td>\n",
       "      <td>-0.051549</td>\n",
       "      <td>0.037608</td>\n",
       "      <td>1.000000</td>\n",
       "      <td>-0.195254</td>\n",
       "      <td>-0.988228</td>\n",
       "    </tr>\n",
       "    <tr>\n",
       "      <th>nWBV</th>\n",
       "      <td>NaN</td>\n",
       "      <td>NaN</td>\n",
       "      <td>-0.558027</td>\n",
       "      <td>0.048484</td>\n",
       "      <td>0.028227</td>\n",
       "      <td>0.322025</td>\n",
       "      <td>-0.310813</td>\n",
       "      <td>-0.195254</td>\n",
       "      <td>1.000000</td>\n",
       "      <td>0.190626</td>\n",
       "    </tr>\n",
       "    <tr>\n",
       "      <th>ASF</th>\n",
       "      <td>NaN</td>\n",
       "      <td>NaN</td>\n",
       "      <td>0.020708</td>\n",
       "      <td>-0.218819</td>\n",
       "      <td>0.235480</td>\n",
       "      <td>0.059661</td>\n",
       "      <td>-0.039840</td>\n",
       "      <td>-0.988228</td>\n",
       "      <td>0.190626</td>\n",
       "      <td>1.000000</td>\n",
       "    </tr>\n",
       "  </tbody>\n",
       "</table>\n",
       "</div>"
      ],
      "text/plain": [
       "          Visit  MR Delay       Age      EDUC       SES      MMSE       CDR  \\\n",
       "Visit       NaN       NaN       NaN       NaN       NaN       NaN       NaN   \n",
       "MR Delay    NaN       NaN       NaN       NaN       NaN       NaN       NaN   \n",
       "Age         NaN       NaN  1.000000 -0.065513 -0.016734 -0.022629 -0.039313   \n",
       "EDUC        NaN       NaN -0.065513  1.000000 -0.725770  0.216439 -0.227556   \n",
       "SES         NaN       NaN -0.016734 -0.725770  1.000000 -0.180484  0.137950   \n",
       "MMSE        NaN       NaN -0.022629  0.216439 -0.180484  1.000000 -0.691874   \n",
       "CDR         NaN       NaN -0.039313 -0.227556  0.137950 -0.691874  1.000000   \n",
       "eTIV        NaN       NaN -0.009693  0.236263 -0.244047 -0.051549  0.037608   \n",
       "nWBV        NaN       NaN -0.558027  0.048484  0.028227  0.322025 -0.310813   \n",
       "ASF         NaN       NaN  0.020708 -0.218819  0.235480  0.059661 -0.039840   \n",
       "\n",
       "              eTIV      nWBV       ASF  \n",
       "Visit          NaN       NaN       NaN  \n",
       "MR Delay       NaN       NaN       NaN  \n",
       "Age      -0.009693 -0.558027  0.020708  \n",
       "EDUC      0.236263  0.048484 -0.218819  \n",
       "SES      -0.244047  0.028227  0.235480  \n",
       "MMSE     -0.051549  0.322025  0.059661  \n",
       "CDR       0.037608 -0.310813 -0.039840  \n",
       "eTIV      1.000000 -0.195254 -0.988228  \n",
       "nWBV     -0.195254  1.000000  0.190626  \n",
       "ASF      -0.988228  0.190626  1.000000  "
      ]
     },
     "execution_count": 9,
     "metadata": {},
     "output_type": "execute_result"
    }
   ],
   "source": [
    "ds_new1.corr()"
   ]
  },
  {
   "cell_type": "code",
   "execution_count": 12,
   "id": "bc316d64",
   "metadata": {},
   "outputs": [
    {
     "name": "stderr",
     "output_type": "stream",
     "text": [
      "C:\\Users\\hp\\AppData\\Local\\Temp\\ipykernel_7920\\2373687958.py:2: FutureWarning: The default value of numeric_only in DataFrame.corr is deprecated. In a future version, it will default to False. Select only valid columns or specify the value of numeric_only to silence this warning.\n",
      "  sb.heatmap(ds.corr(), annot = True)\n"
     ]
    },
    {
     "data": {
      "text/plain": [
       "<Axes: >"
      ]
     },
     "execution_count": 12,
     "metadata": {},
     "output_type": "execute_result"
    },
    {
     "data": {
      "image/png": "[encoded data removed]",
      "text/plain": [
       "<Figure size 1500x1500 with 2 Axes>"
      ]
     },
     "metadata": {},
     "output_type": "display_data"
    }
   ],
   "source": [
    "plt.figure(figsize = (15, 15))\n",
    "sb.heatmap(ds.corr(), annot = True)"
   ]
  },
  {
   "cell_type": "markdown",
   "id": "7b07fc25",
   "metadata": {},
   "source": [
    "## Preprocessing "
   ]
  },
  {
   "cell_type": "markdown",
   "id": "9d3c2958",
   "metadata": {},
   "source": [
    "#### Removing Unnecessary columns in the dataset: "
   ]
  },
  {
   "cell_type": "code",
   "execution_count": 13,
   "id": "dd068a78",
   "metadata": {},
   "outputs": [],
   "source": [
    "# Removing unnecessary columsn in the dataset:\n",
    "drop_list = [\"Subject ID\", \"MRI ID\", \"Visit\", \"MR Delay\", \"Hand\", \"ASF\"]\n",
    "ds_new1 = ds_new1.drop(drop_list, axis = 1)"
   ]
  },
  {
   "cell_type": "code",
   "execution_count": 14,
   "id": "5c5f7980",
   "metadata": {},
   "outputs": [
    {
     "data": {
      "text/html": [
       "<div>\n",
       "<style scoped>\n",
       "    .dataframe tbody tr th:only-of-type {\n",
       "        vertical-align: middle;\n",
       "    }\n",
       "\n",
       "    .dataframe tbody tr th {\n",
       "        vertical-align: top;\n",
       "    }\n",
       "\n",
       "    .dataframe thead th {\n",
       "        text-align: right;\n",
       "    }\n",
       "</style>\n",
       "<table border=\"1\" class=\"dataframe\">\n",
       "  <thead>\n",
       "    <tr style=\"text-align: right;\">\n",
       "      <th></th>\n",
       "      <th>Group</th>\n",
       "      <th>M/F</th>\n",
       "      <th>Age</th>\n",
       "      <th>EDUC</th>\n",
       "      <th>SES</th>\n",
       "      <th>MMSE</th>\n",
       "      <th>CDR</th>\n",
       "      <th>eTIV</th>\n",
       "      <th>nWBV</th>\n",
       "    </tr>\n",
       "  </thead>\n",
       "  <tbody>\n",
       "    <tr>\n",
       "      <th>0</th>\n",
       "      <td>Nondemented</td>\n",
       "      <td>M</td>\n",
       "      <td>87</td>\n",
       "      <td>14</td>\n",
       "      <td>2.0</td>\n",
       "      <td>27.0</td>\n",
       "      <td>0.0</td>\n",
       "      <td>1987</td>\n",
       "      <td>0.696</td>\n",
       "    </tr>\n",
       "    <tr>\n",
       "      <th>2</th>\n",
       "      <td>Demented</td>\n",
       "      <td>M</td>\n",
       "      <td>75</td>\n",
       "      <td>12</td>\n",
       "      <td>NaN</td>\n",
       "      <td>23.0</td>\n",
       "      <td>0.5</td>\n",
       "      <td>1678</td>\n",
       "      <td>0.736</td>\n",
       "    </tr>\n",
       "    <tr>\n",
       "      <th>5</th>\n",
       "      <td>Nondemented</td>\n",
       "      <td>F</td>\n",
       "      <td>88</td>\n",
       "      <td>18</td>\n",
       "      <td>3.0</td>\n",
       "      <td>28.0</td>\n",
       "      <td>0.0</td>\n",
       "      <td>1215</td>\n",
       "      <td>0.710</td>\n",
       "    </tr>\n",
       "    <tr>\n",
       "      <th>7</th>\n",
       "      <td>Nondemented</td>\n",
       "      <td>M</td>\n",
       "      <td>80</td>\n",
       "      <td>12</td>\n",
       "      <td>4.0</td>\n",
       "      <td>28.0</td>\n",
       "      <td>0.0</td>\n",
       "      <td>1689</td>\n",
       "      <td>0.712</td>\n",
       "    </tr>\n",
       "    <tr>\n",
       "      <th>10</th>\n",
       "      <td>Demented</td>\n",
       "      <td>M</td>\n",
       "      <td>71</td>\n",
       "      <td>16</td>\n",
       "      <td>NaN</td>\n",
       "      <td>28.0</td>\n",
       "      <td>0.5</td>\n",
       "      <td>1357</td>\n",
       "      <td>0.748</td>\n",
       "    </tr>\n",
       "  </tbody>\n",
       "</table>\n",
       "</div>"
      ],
      "text/plain": [
       "          Group M/F  Age  EDUC  SES  MMSE  CDR  eTIV   nWBV\n",
       "0   Nondemented   M   87    14  2.0  27.0  0.0  1987  0.696\n",
       "2      Demented   M   75    12  NaN  23.0  0.5  1678  0.736\n",
       "5   Nondemented   F   88    18  3.0  28.0  0.0  1215  0.710\n",
       "7   Nondemented   M   80    12  4.0  28.0  0.0  1689  0.712\n",
       "10     Demented   M   71    16  NaN  28.0  0.5  1357  0.748"
      ]
     },
     "execution_count": 14,
     "metadata": {},
     "output_type": "execute_result"
    }
   ],
   "source": [
    "ds_new1.head()"
   ]
  },
  {
   "cell_type": "code",
   "execution_count": 15,
   "id": "a14676e6",
   "metadata": {},
   "outputs": [
    {
     "data": {
      "text/plain": [
       "(150, 9)"
      ]
     },
     "execution_count": 15,
     "metadata": {},
     "output_type": "execute_result"
    }
   ],
   "source": [
    "ds_new1.shape"
   ]
  },
  {
   "cell_type": "code",
   "execution_count": 10,
   "id": "ee82fb11",
   "metadata": {},
   "outputs": [],
   "source": [
    "# Dropping mf columns\n",
    "#ds_mf = ds_new1['M/F']"
   ]
  },
  {
   "cell_type": "code",
   "execution_count": 17,
   "id": "67d9a93a",
   "metadata": {},
   "outputs": [
    {
     "data": {
      "text/plain": [
       "Group    0\n",
       "M/F      0\n",
       "Age      0\n",
       "EDUC     0\n",
       "SES      8\n",
       "MMSE     0\n",
       "CDR      0\n",
       "eTIV     0\n",
       "nWBV     0\n",
       "dtype: int64"
      ]
     },
     "execution_count": 17,
     "metadata": {},
     "output_type": "execute_result"
    }
   ],
   "source": [
    "# Checking for missing values. \n",
    "ds_new1.isnull().sum()"
   ]
  },
  {
   "cell_type": "markdown",
   "id": "7868f3d0",
   "metadata": {},
   "source": [
    "There are 8 missing values in SES column. We neet to use imputing. But we are going to do that later... just for the independent variables. "
   ]
  },
  {
   "cell_type": "markdown",
   "id": "a3ad39b6",
   "metadata": {},
   "source": [
    "#### Encoding\n",
    "We are going to perform the following actions:\n",
    "1. In Group column: we are going to replace demented with 1 and everything else 0. \n",
    "2. In M/F column: we are going to replace male with 1 and everything else 0"
   ]
  },
  {
   "cell_type": "code",
   "execution_count": 15,
   "id": "78ac414d",
   "metadata": {},
   "outputs": [],
   "source": [
    "ds_new1['Group'] = ds_new1['Group'].apply(lambda x:1 if x == \"Demented\" else 0)\n",
    "ds_new1['M/F'] = ds_new1['M/F'].apply(lambda x: 1 if x == \"Male\" else 0)"
   ]
  },
  {
   "cell_type": "markdown",
   "id": "0aca33b8",
   "metadata": {},
   "source": [
    "## Splitting the dataset"
   ]
  },
  {
   "cell_type": "markdown",
   "id": "57e27d93",
   "metadata": {},
   "source": [
    "#### Into Dependent and Independent variable"
   ]
  },
  {
   "cell_type": "code",
   "execution_count": 16,
   "id": "751d5a76",
   "metadata": {},
   "outputs": [],
   "source": [
    "# Dependent and independent variable splitting \n",
    "X = ds_new1[[\"M/F\", \"Age\", \"EDUC\", \"SES\", \"MMSE\", \"eTIV\", \"nWBV\", \"CDR\"]]\n",
    "y = ds_new1[\"Group\"]"
   ]
  },
  {
   "cell_type": "code",
   "execution_count": 17,
   "id": "ffa27a6c",
   "metadata": {},
   "outputs": [
    {
     "data": {
      "text/html": [
       "<div>\n",
       "<style scoped>\n",
       "    .dataframe tbody tr th:only-of-type {\n",
       "        vertical-align: middle;\n",
       "    }\n",
       "\n",
       "    .dataframe tbody tr th {\n",
       "        vertical-align: top;\n",
       "    }\n",
       "\n",
       "    .dataframe thead th {\n",
       "        text-align: right;\n",
       "    }\n",
       "</style>\n",
       "<table border=\"1\" class=\"dataframe\">\n",
       "  <thead>\n",
       "    <tr style=\"text-align: right;\">\n",
       "      <th></th>\n",
       "      <th>M/F</th>\n",
       "      <th>Age</th>\n",
       "      <th>EDUC</th>\n",
       "      <th>SES</th>\n",
       "      <th>MMSE</th>\n",
       "      <th>eTIV</th>\n",
       "      <th>nWBV</th>\n",
       "      <th>CDR</th>\n",
       "    </tr>\n",
       "  </thead>\n",
       "  <tbody>\n",
       "    <tr>\n",
       "      <th>0</th>\n",
       "      <td>0</td>\n",
       "      <td>87</td>\n",
       "      <td>14</td>\n",
       "      <td>2.0</td>\n",
       "      <td>27.0</td>\n",
       "      <td>1987</td>\n",
       "      <td>0.696</td>\n",
       "      <td>0.0</td>\n",
       "    </tr>\n",
       "    <tr>\n",
       "      <th>2</th>\n",
       "      <td>0</td>\n",
       "      <td>75</td>\n",
       "      <td>12</td>\n",
       "      <td>NaN</td>\n",
       "      <td>23.0</td>\n",
       "      <td>1678</td>\n",
       "      <td>0.736</td>\n",
       "      <td>0.5</td>\n",
       "    </tr>\n",
       "    <tr>\n",
       "      <th>5</th>\n",
       "      <td>0</td>\n",
       "      <td>88</td>\n",
       "      <td>18</td>\n",
       "      <td>3.0</td>\n",
       "      <td>28.0</td>\n",
       "      <td>1215</td>\n",
       "      <td>0.710</td>\n",
       "      <td>0.0</td>\n",
       "    </tr>\n",
       "    <tr>\n",
       "      <th>7</th>\n",
       "      <td>0</td>\n",
       "      <td>80</td>\n",
       "      <td>12</td>\n",
       "      <td>4.0</td>\n",
       "      <td>28.0</td>\n",
       "      <td>1689</td>\n",
       "      <td>0.712</td>\n",
       "      <td>0.0</td>\n",
       "    </tr>\n",
       "    <tr>\n",
       "      <th>10</th>\n",
       "      <td>0</td>\n",
       "      <td>71</td>\n",
       "      <td>16</td>\n",
       "      <td>NaN</td>\n",
       "      <td>28.0</td>\n",
       "      <td>1357</td>\n",
       "      <td>0.748</td>\n",
       "      <td>0.5</td>\n",
       "    </tr>\n",
       "    <tr>\n",
       "      <th>...</th>\n",
       "      <td>...</td>\n",
       "      <td>...</td>\n",
       "      <td>...</td>\n",
       "      <td>...</td>\n",
       "      <td>...</td>\n",
       "      <td>...</td>\n",
       "      <td>...</td>\n",
       "      <td>...</td>\n",
       "    </tr>\n",
       "    <tr>\n",
       "      <th>359</th>\n",
       "      <td>0</td>\n",
       "      <td>73</td>\n",
       "      <td>12</td>\n",
       "      <td>NaN</td>\n",
       "      <td>23.0</td>\n",
       "      <td>1661</td>\n",
       "      <td>0.698</td>\n",
       "      <td>0.5</td>\n",
       "    </tr>\n",
       "    <tr>\n",
       "      <th>361</th>\n",
       "      <td>0</td>\n",
       "      <td>66</td>\n",
       "      <td>13</td>\n",
       "      <td>2.0</td>\n",
       "      <td>30.0</td>\n",
       "      <td>1495</td>\n",
       "      <td>0.746</td>\n",
       "      <td>0.0</td>\n",
       "    </tr>\n",
       "    <tr>\n",
       "      <th>365</th>\n",
       "      <td>0</td>\n",
       "      <td>72</td>\n",
       "      <td>16</td>\n",
       "      <td>3.0</td>\n",
       "      <td>24.0</td>\n",
       "      <td>1354</td>\n",
       "      <td>0.733</td>\n",
       "      <td>0.5</td>\n",
       "    </tr>\n",
       "    <tr>\n",
       "      <th>367</th>\n",
       "      <td>0</td>\n",
       "      <td>80</td>\n",
       "      <td>16</td>\n",
       "      <td>1.0</td>\n",
       "      <td>28.0</td>\n",
       "      <td>1704</td>\n",
       "      <td>0.711</td>\n",
       "      <td>0.5</td>\n",
       "    </tr>\n",
       "    <tr>\n",
       "      <th>370</th>\n",
       "      <td>0</td>\n",
       "      <td>61</td>\n",
       "      <td>13</td>\n",
       "      <td>2.0</td>\n",
       "      <td>30.0</td>\n",
       "      <td>1319</td>\n",
       "      <td>0.801</td>\n",
       "      <td>0.0</td>\n",
       "    </tr>\n",
       "  </tbody>\n",
       "</table>\n",
       "<p>150 rows × 8 columns</p>\n",
       "</div>"
      ],
      "text/plain": [
       "     M/F  Age  EDUC  SES  MMSE  eTIV   nWBV  CDR\n",
       "0      0   87    14  2.0  27.0  1987  0.696  0.0\n",
       "2      0   75    12  NaN  23.0  1678  0.736  0.5\n",
       "5      0   88    18  3.0  28.0  1215  0.710  0.0\n",
       "7      0   80    12  4.0  28.0  1689  0.712  0.0\n",
       "10     0   71    16  NaN  28.0  1357  0.748  0.5\n",
       "..   ...  ...   ...  ...   ...   ...    ...  ...\n",
       "359    0   73    12  NaN  23.0  1661  0.698  0.5\n",
       "361    0   66    13  2.0  30.0  1495  0.746  0.0\n",
       "365    0   72    16  3.0  24.0  1354  0.733  0.5\n",
       "367    0   80    16  1.0  28.0  1704  0.711  0.5\n",
       "370    0   61    13  2.0  30.0  1319  0.801  0.0\n",
       "\n",
       "[150 rows x 8 columns]"
      ]
     },
     "execution_count": 17,
     "metadata": {},
     "output_type": "execute_result"
    }
   ],
   "source": [
    "X"
   ]
  },
  {
   "cell_type": "markdown",
   "id": "569e5474",
   "metadata": {},
   "source": [
    "#### Imputing the independent variable"
   ]
  },
  {
   "cell_type": "code",
   "execution_count": 18,
   "id": "d301a26d",
   "metadata": {},
   "outputs": [
    {
     "data": {
      "text/html": [
       "<div>\n",
       "<style scoped>\n",
       "    .dataframe tbody tr th:only-of-type {\n",
       "        vertical-align: middle;\n",
       "    }\n",
       "\n",
       "    .dataframe tbody tr th {\n",
       "        vertical-align: top;\n",
       "    }\n",
       "\n",
       "    .dataframe thead th {\n",
       "        text-align: right;\n",
       "    }\n",
       "</style>\n",
       "<table border=\"1\" class=\"dataframe\">\n",
       "  <thead>\n",
       "    <tr style=\"text-align: right;\">\n",
       "      <th></th>\n",
       "      <th>M/F</th>\n",
       "      <th>Age</th>\n",
       "      <th>EDUC</th>\n",
       "      <th>SES</th>\n",
       "      <th>MMSE</th>\n",
       "      <th>eTIV</th>\n",
       "      <th>nWBV</th>\n",
       "      <th>CDR</th>\n",
       "    </tr>\n",
       "  </thead>\n",
       "  <tbody>\n",
       "    <tr>\n",
       "      <th>0</th>\n",
       "      <td>0</td>\n",
       "      <td>87</td>\n",
       "      <td>14</td>\n",
       "      <td>2.0</td>\n",
       "      <td>27.0</td>\n",
       "      <td>1987</td>\n",
       "      <td>0.696</td>\n",
       "      <td>0.0</td>\n",
       "    </tr>\n",
       "    <tr>\n",
       "      <th>2</th>\n",
       "      <td>0</td>\n",
       "      <td>75</td>\n",
       "      <td>12</td>\n",
       "      <td>2.0</td>\n",
       "      <td>23.0</td>\n",
       "      <td>1678</td>\n",
       "      <td>0.736</td>\n",
       "      <td>0.5</td>\n",
       "    </tr>\n",
       "    <tr>\n",
       "      <th>5</th>\n",
       "      <td>0</td>\n",
       "      <td>88</td>\n",
       "      <td>18</td>\n",
       "      <td>3.0</td>\n",
       "      <td>28.0</td>\n",
       "      <td>1215</td>\n",
       "      <td>0.710</td>\n",
       "      <td>0.0</td>\n",
       "    </tr>\n",
       "    <tr>\n",
       "      <th>7</th>\n",
       "      <td>0</td>\n",
       "      <td>80</td>\n",
       "      <td>12</td>\n",
       "      <td>4.0</td>\n",
       "      <td>28.0</td>\n",
       "      <td>1689</td>\n",
       "      <td>0.712</td>\n",
       "      <td>0.0</td>\n",
       "    </tr>\n",
       "    <tr>\n",
       "      <th>10</th>\n",
       "      <td>0</td>\n",
       "      <td>71</td>\n",
       "      <td>16</td>\n",
       "      <td>2.0</td>\n",
       "      <td>28.0</td>\n",
       "      <td>1357</td>\n",
       "      <td>0.748</td>\n",
       "      <td>0.5</td>\n",
       "    </tr>\n",
       "    <tr>\n",
       "      <th>...</th>\n",
       "      <td>...</td>\n",
       "      <td>...</td>\n",
       "      <td>...</td>\n",
       "      <td>...</td>\n",
       "      <td>...</td>\n",
       "      <td>...</td>\n",
       "      <td>...</td>\n",
       "      <td>...</td>\n",
       "    </tr>\n",
       "    <tr>\n",
       "      <th>359</th>\n",
       "      <td>0</td>\n",
       "      <td>73</td>\n",
       "      <td>12</td>\n",
       "      <td>2.0</td>\n",
       "      <td>23.0</td>\n",
       "      <td>1661</td>\n",
       "      <td>0.698</td>\n",
       "      <td>0.5</td>\n",
       "    </tr>\n",
       "    <tr>\n",
       "      <th>361</th>\n",
       "      <td>0</td>\n",
       "      <td>66</td>\n",
       "      <td>13</td>\n",
       "      <td>2.0</td>\n",
       "      <td>30.0</td>\n",
       "      <td>1495</td>\n",
       "      <td>0.746</td>\n",
       "      <td>0.0</td>\n",
       "    </tr>\n",
       "    <tr>\n",
       "      <th>365</th>\n",
       "      <td>0</td>\n",
       "      <td>72</td>\n",
       "      <td>16</td>\n",
       "      <td>3.0</td>\n",
       "      <td>24.0</td>\n",
       "      <td>1354</td>\n",
       "      <td>0.733</td>\n",
       "      <td>0.5</td>\n",
       "    </tr>\n",
       "    <tr>\n",
       "      <th>367</th>\n",
       "      <td>0</td>\n",
       "      <td>80</td>\n",
       "      <td>16</td>\n",
       "      <td>1.0</td>\n",
       "      <td>28.0</td>\n",
       "      <td>1704</td>\n",
       "      <td>0.711</td>\n",
       "      <td>0.5</td>\n",
       "    </tr>\n",
       "    <tr>\n",
       "      <th>370</th>\n",
       "      <td>0</td>\n",
       "      <td>61</td>\n",
       "      <td>13</td>\n",
       "      <td>2.0</td>\n",
       "      <td>30.0</td>\n",
       "      <td>1319</td>\n",
       "      <td>0.801</td>\n",
       "      <td>0.0</td>\n",
       "    </tr>\n",
       "  </tbody>\n",
       "</table>\n",
       "<p>150 rows × 8 columns</p>\n",
       "</div>"
      ],
      "text/plain": [
       "     M/F  Age  EDUC  SES  MMSE  eTIV   nWBV  CDR\n",
       "0      0   87    14  2.0  27.0  1987  0.696  0.0\n",
       "2      0   75    12  2.0  23.0  1678  0.736  0.5\n",
       "5      0   88    18  3.0  28.0  1215  0.710  0.0\n",
       "7      0   80    12  4.0  28.0  1689  0.712  0.0\n",
       "10     0   71    16  2.0  28.0  1357  0.748  0.5\n",
       "..   ...  ...   ...  ...   ...   ...    ...  ...\n",
       "359    0   73    12  2.0  23.0  1661  0.698  0.5\n",
       "361    0   66    13  2.0  30.0  1495  0.746  0.0\n",
       "365    0   72    16  3.0  24.0  1354  0.733  0.5\n",
       "367    0   80    16  1.0  28.0  1704  0.711  0.5\n",
       "370    0   61    13  2.0  30.0  1319  0.801  0.0\n",
       "\n",
       "[150 rows x 8 columns]"
      ]
     },
     "execution_count": 18,
     "metadata": {},
     "output_type": "execute_result"
    }
   ],
   "source": [
    "# Imputing on X value\n",
    "X = X.fillna(X.median())\n",
    "X"
   ]
  },
  {
   "cell_type": "markdown",
   "id": "ba1e53ce",
   "metadata": {},
   "source": [
    "#### Train Test Split"
   ]
  },
  {
   "cell_type": "code",
   "execution_count": 19,
   "id": "ef4db206",
   "metadata": {},
   "outputs": [],
   "source": [
    "from sklearn.model_selection import train_test_split\n",
    "from sklearn.ensemble import RandomForestClassifier\n",
    "from sklearn.metrics import f1_score\n",
    "\n",
    "X_train, X_test, y_train, y_test = train_test_split(X, y, test_size = 0.3)"
   ]
  },
  {
   "cell_type": "code",
   "execution_count": 20,
   "id": "c7a38288",
   "metadata": {},
   "outputs": [
    {
     "name": "stdout",
     "output_type": "stream",
     "text": [
      "105\n",
      "45\n",
      "105\n",
      "45\n"
     ]
    }
   ],
   "source": [
    "print(len(X_train))\n",
    "print(len(X_test))\n",
    "print(len(y_train))\n",
    "print(len(y_test))"
   ]
  },
  {
   "cell_type": "markdown",
   "id": "731cf879",
   "metadata": {},
   "source": [
    "#### Feature Scalling"
   ]
  },
  {
   "cell_type": "code",
   "execution_count": 21,
   "id": "0f1f292d",
   "metadata": {},
   "outputs": [
    {
     "data": {
      "text/plain": [
       "array([[ 0.        ,  1.80140583,  1.33969737, -0.40471361,  0.92299307,\n",
       "         1.37268888,  0.3203382 , -0.94064699],\n",
       "       [ 0.        , -0.80094609,  0.54120225,  0.55381862,  0.60593438,\n",
       "        -0.61647625,  2.37162668, -0.94064699],\n",
       "       [ 0.        ,  1.28093544,  1.33969737, -1.36324583,  0.60593438,\n",
       "        -1.30526179, -0.9441547 , -0.94064699],\n",
       "       [ 0.        ,  0.89058266,  0.14195469,  0.55381862,  0.60593438,\n",
       "         0.09012271, -1.2813528 ,  0.68739588],\n",
       "       [ 0.        , -0.28047571,  0.14195469,  1.51235085,  0.60593438,\n",
       "        -1.25775934, -1.05655406, -0.94064699],\n",
       "       [ 0.        ,  0.76046506, -0.65654043, -0.40471361,  0.60593438,\n",
       "        -0.82429947,  0.06743962, -0.94064699],\n",
       "       [ 0.        , -1.71176926, -1.05578799,  1.51235085, -3.19876987,\n",
       "         0.24450567, -0.07305959,  0.68739588],\n",
       "       [ 0.        ,  0.50022987,  1.33969737, -0.40471361,  0.60593438,\n",
       "         0.93329121, -1.11275375, -0.94064699],\n",
       "       [ 0.        , -0.28047571, -1.05578799,  0.55381862, -0.02818299,\n",
       "        -0.34927497,  0.96663457,  0.68739588],\n",
       "       [ 0.        , -0.28047571, -1.45503555,  1.51235085,  0.92299307,\n",
       "        -0.05238465, -0.24165864, -0.94064699],\n",
       "       [ 0.        , -0.5407109 ,  0.54120225, -0.40471361,  0.28887569,\n",
       "        -0.7530458 ,  0.37653788,  0.68739588],\n",
       "       [ 0.        ,  0.76046506,  1.33969737, -0.40471361,  0.60593438,\n",
       "        -0.08207368, -1.33755249, -0.94064699],\n",
       "       [ 0.        , -0.15035811,  1.33969737, -0.40471361,  0.60593438,\n",
       "        -0.12363832,  0.06743962, -0.94064699],\n",
       "       [ 0.        ,  1.80140583, -0.65654043,  0.55381862,  0.60593438,\n",
       "        -1.95842049,  0.43273757, -0.94064699],\n",
       "       [ 0.        , -0.93106369, -1.05578799, -0.40471361, -0.02818299,\n",
       "        -0.15926516,  2.00632873,  0.68739588],\n",
       "       [ 0.        ,  1.02070025, -0.65654043, -0.40471361, -0.02818299,\n",
       "        -0.55116038, -0.83175533,  2.31543874],\n",
       "       [ 0.        ,  1.93152342, -1.05578799,  0.55381862, -1.93053512,\n",
       "        -1.04993612, -1.56235122,  0.68739588],\n",
       "       [ 0.        ,  0.10987708, -0.25729287,  0.55381862, -0.66230037,\n",
       "        -0.44427987, -0.55075691,  2.31543874],\n",
       "       [ 0.        ,  0.10987708, -1.05578799, -0.40471361, -0.02818299,\n",
       "        -0.99649586, -0.2135588 ,  0.68739588],\n",
       "       [ 0.        ,  0.23999468,  2.13819249, -1.36324583, -1.29641774,\n",
       "         1.36081327,  0.60133662,  2.31543874],\n",
       "       [ 0.        ,  0.10987708,  0.54120225, -1.36324583,  0.28887569,\n",
       "        -0.81836167,  0.76993567, -0.94064699],\n",
       "       [ 0.        ,  0.76046506, -1.45503555,  1.51235085,  0.28887569,\n",
       "         1.5805121 , -1.8152498 , -0.94064699],\n",
       "       [ 0.        , -1.84188686, -0.65654043, -0.40471361,  0.92299307,\n",
       "        -0.97868244,  1.86582952, -0.94064699],\n",
       "       [ 0.        , -1.45153407,  1.33969737, -0.40471361, -1.61347643,\n",
       "         0.37513741,  0.06743962,  0.68739588],\n",
       "       [ 0.        ,  1.54117064, -0.25729287, -0.40471361, -0.02818299,\n",
       "         2.98777221, -1.08465391, -0.94064699],\n",
       "       [ 0.        ,  0.10987708,  0.54120225,  0.55381862, -1.93053512,\n",
       "         0.70171676, -1.05655406,  0.68739588],\n",
       "       [ 0.        , -1.19129888, -0.65654043, -0.40471361,  0.92299307,\n",
       "         0.06637148,  0.3203382 , -0.94064699],\n",
       "       [ 0.        , -1.84188686,  0.54120225, -1.36324583,  0.92299307,\n",
       "         0.17325199,  1.02283425, -0.94064699],\n",
       "       [ 0.        , -0.5407109 , -1.05578799,  1.51235085, -2.24759381,\n",
       "        -0.13551394, -0.29785833,  0.68739588],\n",
       "       [ 0.        , -1.06118128, -0.25729287,  1.51235085,  0.92299307,\n",
       "         0.14356296,  1.66913062, -0.94064699],\n",
       "       [ 0.        , -0.02024051, -1.05578799,  1.51235085,  0.28887569,\n",
       "         0.16137638,  0.12363931, -0.94064699],\n",
       "       [ 0.        ,  1.80140583,  0.54120225, -1.36324583,  0.28887569,\n",
       "         0.87391315, -1.70285043, -0.94064699],\n",
       "       [ 0.        , -0.02024051, -1.05578799, -0.40471361, -1.29641774,\n",
       "         1.15299004,  0.03933978,  0.68739588],\n",
       "       [ 0.        , -0.67082849,  0.54120225, -1.36324583, -0.66230037,\n",
       "         0.49983134, -1.08465391,  0.68739588],\n",
       "       [ 0.        ,  0.37011227, -0.25729287,  0.55381862,  0.92299307,\n",
       "        -1.00243367, -0.77555564,  0.68739588],\n",
       "       [ 0.        ,  1.41105304,  0.54120225,  0.55381862,  0.92299307,\n",
       "        -1.13306541,  0.34843804, -0.94064699],\n",
       "       [ 0.        , -0.80094609,  0.54120225, -1.36324583,  0.92299307,\n",
       "        -0.4739689 ,  0.43273757, -0.94064699],\n",
       "       [ 0.        , -1.32141647, -1.05578799, -0.40471361,  0.92299307,\n",
       "        -0.85398851,  0.54513694,  0.68739588],\n",
       "       [ 0.        ,  0.23999468,  1.33969737, -1.36324583, -0.66230037,\n",
       "         0.71359237,  1.30383268,  0.68739588],\n",
       "       [ 0.        , -0.80094609, -1.05578799,  1.51235085, -1.29641774,\n",
       "        -0.21864323,  0.68563615,  0.68739588],\n",
       "       [ 0.        , -0.67082849,  0.54120225,  0.55381862,  0.60593438,\n",
       "        -0.12363832,  0.40463773,  0.68739588],\n",
       "       [ 0.        ,  0.63034746,  0.54120225, -1.36324583,  0.28887569,\n",
       "         1.30737301, -0.66315627,  0.68739588],\n",
       "       [ 0.        , -0.4105933 ,  2.13819249, -1.36324583, -0.34524168,\n",
       "         2.53649893, -0.43835754,  0.68739588],\n",
       "       [ 0.        , -0.4105933 , -1.05578799,  1.51235085, -0.34524168,\n",
       "        -0.18301639,  1.19143331,  0.68739588],\n",
       "       [ 0.        , -0.15035811, -1.05578799,  0.55381862,  0.60593438,\n",
       "        -0.83023728,  0.12363931, -0.94064699]])"
      ]
     },
     "execution_count": 21,
     "metadata": {},
     "output_type": "execute_result"
    }
   ],
   "source": [
    "# Feature scaling \n",
    "from sklearn.preprocessing import StandardScaler \n",
    "scaler = StandardScaler()\n",
    "scaler.fit_transform(X_train)\n",
    "scaler.fit_transform(X_test)"
   ]
  },
  {
   "cell_type": "markdown",
   "id": "7e3ffbf0",
   "metadata": {},
   "source": [
    "## Model Building"
   ]
  },
  {
   "cell_type": "markdown",
   "id": "2ae80e7c",
   "metadata": {},
   "source": [
    "#### KNN Classifier "
   ]
  },
  {
   "cell_type": "code",
   "execution_count": 22,
   "id": "2dc2fc2e",
   "metadata": {},
   "outputs": [],
   "source": [
    "# KNN Model \n",
    "from sklearn.neighbors import KNeighborsClassifier\n",
    "knn_model = KNeighborsClassifier(n_neighbors = 3)"
   ]
  },
  {
   "cell_type": "code",
   "execution_count": 23,
   "id": "7cb9ba84",
   "metadata": {},
   "outputs": [
    {
     "name": "stderr",
     "output_type": "stream",
     "text": [
      "C:\\Users\\pavit\\anaconda3\\lib\\site-packages\\sklearn\\neighbors\\_classification.py:228: FutureWarning: Unlike other reduction functions (e.g. `skew`, `kurtosis`), the default behavior of `mode` typically preserves the axis it acts along. In SciPy 1.11.0, this behavior will change: the default value of `keepdims` will become False, the `axis` over which the statistic is taken will be eliminated, and the value None will no longer be accepted. Set `keepdims` to True or False to avoid this warning.\n",
      "  mode, _ = stats.mode(_y[neigh_ind, k], axis=1)\n"
     ]
    }
   ],
   "source": [
    "knn_model.fit(X_train,y_train)\n",
    "y_pred_knn = knn_model.predict(X_test)"
   ]
  },
  {
   "cell_type": "code",
   "execution_count": 24,
   "id": "9c4b3f1c",
   "metadata": {},
   "outputs": [
    {
     "data": {
      "text/plain": [
       "array([0, 0, 1, 0, 1, 0, 0, 0, 1, 1, 0, 0, 0, 1, 1, 0, 1, 0, 1, 1, 1, 0,\n",
       "       0, 0, 1, 0, 0, 0, 0, 0, 0, 0, 0, 1, 1, 0, 0, 1, 0, 1, 0, 0, 1, 1,\n",
       "       1], dtype=int64)"
      ]
     },
     "execution_count": 24,
     "metadata": {},
     "output_type": "execute_result"
    }
   ],
   "source": [
    "y_pred_knn"
   ]
  },
  {
   "cell_type": "code",
   "execution_count": 25,
   "id": "57811aeb",
   "metadata": {
    "scrolled": true
   },
   "outputs": [
    {
     "name": "stdout",
     "output_type": "stream",
     "text": [
      "              precision    recall  f1-score   support\n",
      "\n",
      "           0       0.56      0.65      0.60        23\n",
      "           1       0.56      0.45      0.50        22\n",
      "\n",
      "    accuracy                           0.56        45\n",
      "   macro avg       0.56      0.55      0.55        45\n",
      "weighted avg       0.56      0.56      0.55        45\n",
      "\n"
     ]
    }
   ],
   "source": [
    "from sklearn.metrics import classification_report\n",
    "from sklearn.metrics import classification_report, confusion_matrix\n",
    "\n",
    "print(classification_report(y_test, y_pred_knn))"
   ]
  },
  {
   "cell_type": "markdown",
   "id": "b3b00272",
   "metadata": {},
   "source": [
    "#### Logistic Regression "
   ]
  },
  {
   "cell_type": "code",
   "execution_count": 26,
   "id": "d83527e9",
   "metadata": {},
   "outputs": [
    {
     "name": "stderr",
     "output_type": "stream",
     "text": [
      "C:\\Users\\pavit\\anaconda3\\lib\\site-packages\\sklearn\\linear_model\\_logistic.py:814: ConvergenceWarning: lbfgs failed to converge (status=1):\n",
      "STOP: TOTAL NO. of ITERATIONS REACHED LIMIT.\n",
      "\n",
      "Increase the number of iterations (max_iter) or scale the data as shown in:\n",
      "    https://scikit-learn.org/stable/modules/preprocessing.html\n",
      "Please also refer to the documentation for alternative solver options:\n",
      "    https://scikit-learn.org/stable/modules/linear_model.html#logistic-regression\n",
      "  n_iter_i = _check_optimize_result(\n"
     ]
    }
   ],
   "source": [
    "from sklearn.linear_model import LogisticRegression\n",
    "lr = LogisticRegression()\n",
    "lr.fit(X_train, y_train)\n",
    "y_pred_log = lr.predict(X_test)"
   ]
  },
  {
   "cell_type": "code",
   "execution_count": 27,
   "id": "32e5eaaf",
   "metadata": {},
   "outputs": [
    {
     "data": {
      "text/plain": [
       "array([0, 0, 0, 1, 0, 0, 1, 0, 1, 0, 0, 0, 0, 0, 0, 1, 1, 1, 1, 1, 0, 0,\n",
       "       0, 1, 1, 1, 0, 0, 1, 0, 0, 0, 1, 1, 0, 0, 0, 0, 1, 1, 0, 1, 1, 1,\n",
       "       0], dtype=int64)"
      ]
     },
     "execution_count": 27,
     "metadata": {},
     "output_type": "execute_result"
    }
   ],
   "source": [
    "y_pred_log"
   ]
  },
  {
   "cell_type": "code",
   "execution_count": 28,
   "id": "5ce95902",
   "metadata": {
    "scrolled": true
   },
   "outputs": [
    {
     "name": "stdout",
     "output_type": "stream",
     "text": [
      "              precision    recall  f1-score   support\n",
      "\n",
      "           0       0.85      0.96      0.90        23\n",
      "           1       0.95      0.82      0.88        22\n",
      "\n",
      "    accuracy                           0.89        45\n",
      "   macro avg       0.90      0.89      0.89        45\n",
      "weighted avg       0.90      0.89      0.89        45\n",
      "\n"
     ]
    }
   ],
   "source": [
    "print(classification_report(y_test, y_pred_log))"
   ]
  },
  {
   "cell_type": "markdown",
   "id": "283be404",
   "metadata": {},
   "source": [
    "#### Naive Bayes"
   ]
  },
  {
   "cell_type": "code",
   "execution_count": 29,
   "id": "8be5c4ec",
   "metadata": {},
   "outputs": [],
   "source": [
    "from sklearn.naive_bayes import GaussianNB\n",
    "nb_model = GaussianNB()\n",
    "y_pred_nb = nb_model.fit(X_train, y_train).predict(X_test)"
   ]
  },
  {
   "cell_type": "code",
   "execution_count": 30,
   "id": "446bf70d",
   "metadata": {},
   "outputs": [
    {
     "data": {
      "text/plain": [
       "array([0, 0, 0, 1, 0, 0, 1, 0, 1, 0, 1, 0, 0, 0, 1, 1, 1, 1, 1, 1, 0, 0,\n",
       "       0, 1, 0, 1, 0, 0, 1, 0, 0, 0, 1, 1, 1, 0, 0, 1, 1, 1, 1, 1, 1, 1,\n",
       "       0], dtype=int64)"
      ]
     },
     "execution_count": 30,
     "metadata": {},
     "output_type": "execute_result"
    }
   ],
   "source": [
    "y_pred_nb"
   ]
  },
  {
   "cell_type": "code",
   "execution_count": 31,
   "id": "5bac8ce9",
   "metadata": {},
   "outputs": [
    {
     "name": "stdout",
     "output_type": "stream",
     "text": [
      "              precision    recall  f1-score   support\n",
      "\n",
      "           0       1.00      0.96      0.98        23\n",
      "           1       0.96      1.00      0.98        22\n",
      "\n",
      "    accuracy                           0.98        45\n",
      "   macro avg       0.98      0.98      0.98        45\n",
      "weighted avg       0.98      0.98      0.98        45\n",
      "\n"
     ]
    }
   ],
   "source": [
    "print(classification_report(y_test, y_pred_nb))"
   ]
  },
  {
   "cell_type": "markdown",
   "id": "9d5b296e",
   "metadata": {},
   "source": [
    "#### Decision Trees Classifer"
   ]
  },
  {
   "cell_type": "code",
   "execution_count": 57,
   "id": "6e43a047",
   "metadata": {},
   "outputs": [],
   "source": [
    "from sklearn.tree import DecisionTreeClassifier\n",
    "dt_model = DecisionTreeClassifier(max_depth = 6, random_state = 0)\n",
    "y_pred_dt = dt_model.fit(X_train, y_train).predict(X_test)"
   ]
  },
  {
   "cell_type": "code",
   "execution_count": 58,
   "id": "7ef15842",
   "metadata": {},
   "outputs": [
    {
     "data": {
      "text/plain": [
       "array([0, 0, 0, 1, 0, 0, 1, 0, 1, 0, 1, 0, 0, 0, 1, 1, 1, 1, 1, 1, 0, 0,\n",
       "       0, 1, 0, 1, 0, 0, 1, 0, 0, 0, 1, 1, 1, 0, 0, 1, 1, 1, 1, 1, 1, 1,\n",
       "       0], dtype=int64)"
      ]
     },
     "execution_count": 58,
     "metadata": {},
     "output_type": "execute_result"
    }
   ],
   "source": [
    "y_pred_dt"
   ]
  },
  {
   "cell_type": "code",
   "execution_count": 59,
   "id": "c258c63a",
   "metadata": {
    "scrolled": true
   },
   "outputs": [
    {
     "name": "stdout",
     "output_type": "stream",
     "text": [
      "              precision    recall  f1-score   support\n",
      "\n",
      "           0       1.00      0.96      0.98        23\n",
      "           1       0.96      1.00      0.98        22\n",
      "\n",
      "    accuracy                           0.98        45\n",
      "   macro avg       0.98      0.98      0.98        45\n",
      "weighted avg       0.98      0.98      0.98        45\n",
      "\n"
     ]
    }
   ],
   "source": [
    "print(classification_report(y_test, y_pred_dt))"
   ]
  },
  {
   "cell_type": "markdown",
   "id": "e5d92065",
   "metadata": {},
   "source": [
    "#### Ensembling Methods - Bagging - Random Forests Classifier"
   ]
  },
  {
   "cell_type": "code",
   "execution_count": 35,
   "id": "afdcace3",
   "metadata": {},
   "outputs": [],
   "source": [
    "from sklearn.ensemble import RandomForestClassifier\n",
    "rf = RandomForestClassifier(n_estimators = 500, random_state = 0, max_depth = 170)\n",
    "rf.fit(X_train, y_train)\n",
    "y_pred_rf = rf.predict(X_test)"
   ]
  },
  {
   "cell_type": "code",
   "execution_count": 36,
   "id": "7f1a6fa3",
   "metadata": {},
   "outputs": [
    {
     "data": {
      "text/plain": [
       "array([0, 0, 0, 1, 0, 0, 1, 0, 1, 0, 1, 0, 0, 0, 1, 1, 1, 1, 1, 1, 0, 0,\n",
       "       0, 1, 0, 1, 0, 0, 1, 0, 0, 0, 1, 1, 1, 0, 0, 1, 1, 1, 1, 1, 1, 1,\n",
       "       0], dtype=int64)"
      ]
     },
     "execution_count": 36,
     "metadata": {},
     "output_type": "execute_result"
    }
   ],
   "source": [
    "y_pred_rf"
   ]
  },
  {
   "cell_type": "code",
   "execution_count": 37,
   "id": "c2c687a2",
   "metadata": {},
   "outputs": [
    {
     "name": "stdout",
     "output_type": "stream",
     "text": [
      "              precision    recall  f1-score   support\n",
      "\n",
      "           0       1.00      0.96      0.98        23\n",
      "           1       0.96      1.00      0.98        22\n",
      "\n",
      "    accuracy                           0.98        45\n",
      "   macro avg       0.98      0.98      0.98        45\n",
      "weighted avg       0.98      0.98      0.98        45\n",
      "\n"
     ]
    }
   ],
   "source": [
    "print(classification_report(y_test, y_pred_rf))"
   ]
  },
  {
   "cell_type": "markdown",
   "id": "8da62e60",
   "metadata": {},
   "source": [
    "#### Boosting - XGBoost "
   ]
  },
  {
   "cell_type": "code",
   "execution_count": 38,
   "id": "84adc6d2",
   "metadata": {},
   "outputs": [],
   "source": [
    "from sklearn.ensemble import GradientBoostingClassifier\n",
    "xgb = GradientBoostingClassifier(n_estimators = 100, learning_rate = 0.01, random_state = 0)\n",
    "y_pred_xgb = xgb.fit(X_train, y_train).predict(X_test)"
   ]
  },
  {
   "cell_type": "code",
   "execution_count": 39,
   "id": "860ef9ba",
   "metadata": {},
   "outputs": [
    {
     "name": "stdout",
     "output_type": "stream",
     "text": [
      "              precision    recall  f1-score   support\n",
      "\n",
      "           0       1.00      0.96      0.98        23\n",
      "           1       0.96      1.00      0.98        22\n",
      "\n",
      "    accuracy                           0.98        45\n",
      "   macro avg       0.98      0.98      0.98        45\n",
      "weighted avg       0.98      0.98      0.98        45\n",
      "\n"
     ]
    }
   ],
   "source": [
    "print(classification_report(y_test, y_pred_xgb))"
   ]
  },
  {
   "cell_type": "markdown",
   "id": "fdd9d827",
   "metadata": {},
   "source": [
    "#### Boosting - AdaBoost "
   ]
  },
  {
   "cell_type": "code",
   "execution_count": 40,
   "id": "13b2b1cc",
   "metadata": {},
   "outputs": [],
   "source": [
    "from sklearn.ensemble import AdaBoostClassifier\n",
    "ada = AdaBoostClassifier(random_state = 0, n_estimators = 100, learning_rate=0.01)\n",
    "y_pred_ada = ada.fit(X_train, y_train).predict(X_test)"
   ]
  },
  {
   "cell_type": "code",
   "execution_count": 44,
   "id": "350c06b3",
   "metadata": {},
   "outputs": [
    {
     "name": "stdout",
     "output_type": "stream",
     "text": [
      "              precision    recall  f1-score   support\n",
      "\n",
      "           0       1.00      0.96      0.98        23\n",
      "           1       0.96      1.00      0.98        22\n",
      "\n",
      "    accuracy                           0.98        45\n",
      "   macro avg       0.98      0.98      0.98        45\n",
      "weighted avg       0.98      0.98      0.98        45\n",
      "\n"
     ]
    }
   ],
   "source": [
    "print(classification_report(y_test, y_pred_ada))"
   ]
  },
  {
   "cell_type": "markdown",
   "id": "c151e86d",
   "metadata": {},
   "source": [
    "#### Support Vector Machines Classifier \n"
   ]
  },
  {
   "cell_type": "code",
   "execution_count": 47,
   "id": "59ca98ef",
   "metadata": {},
   "outputs": [
    {
     "data": {
      "text/plain": [
       "SVC(kernel='linear')"
      ]
     },
     "execution_count": 47,
     "metadata": {},
     "output_type": "execute_result"
    }
   ],
   "source": [
    "from sklearn import svm\n",
    "svm_model = svm.SVC(kernel = 'linear')\n",
    "svm_model.fit(X_train, y_train)"
   ]
  },
  {
   "cell_type": "code",
   "execution_count": 49,
   "id": "1c50d736",
   "metadata": {},
   "outputs": [
    {
     "data": {
      "text/plain": [
       "array([0, 0, 0, 1, 0, 0, 1, 0, 1, 0, 1, 0, 0, 0, 1, 1, 1, 1, 1, 1, 0, 0,\n",
       "       0, 1, 0, 1, 0, 0, 1, 0, 0, 0, 1, 1, 1, 0, 0, 1, 1, 1, 1, 1, 1, 1,\n",
       "       0], dtype=int64)"
      ]
     },
     "execution_count": 49,
     "metadata": {},
     "output_type": "execute_result"
    }
   ],
   "source": [
    "y_pred_svm = svm_model.predict(X_test)\n",
    "y_pred_svm"
   ]
  },
  {
   "cell_type": "code",
   "execution_count": 50,
   "id": "9051c869",
   "metadata": {},
   "outputs": [
    {
     "name": "stdout",
     "output_type": "stream",
     "text": [
      "              precision    recall  f1-score   support\n",
      "\n",
      "           0       1.00      0.96      0.98        23\n",
      "           1       0.96      1.00      0.98        22\n",
      "\n",
      "    accuracy                           0.98        45\n",
      "   macro avg       0.98      0.98      0.98        45\n",
      "weighted avg       0.98      0.98      0.98        45\n",
      "\n"
     ]
    }
   ],
   "source": [
    "print(classification_report(y_test, y_pred_svm))"
   ]
  }
 ],
 "metadata": {
  "kernelspec": {
   "display_name": "Python 3 (ipykernel)",
   "language": "python",
   "name": "python3"
  },
  "language_info": {
   "codemirror_mode": {
    "name": "ipython",
    "version": 3
   },
   "file_extension": ".py",
   "mimetype": "text/x-python",
   "name": "python",
   "nbconvert_exporter": "python",
   "pygments_lexer": "ipython3",
   "version": "3.10.9"
  }
 },
 "nbformat": 4,
 "nbformat_minor": 5
}
